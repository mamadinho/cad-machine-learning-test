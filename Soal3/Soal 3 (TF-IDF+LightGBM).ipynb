{
  "nbformat": 4,
  "nbformat_minor": 0,
  "metadata": {
    "colab": {
      "provenance": []
    },
    "kernelspec": {
      "name": "python3",
      "display_name": "Python 3"
    },
    "language_info": {
      "name": "python"
    }
  },
  "cells": [
    {
      "cell_type": "code",
      "execution_count": 41,
      "metadata": {
        "id": "oZprUxWkAN7G"
      },
      "outputs": [],
      "source": [
        "import numpy as np\n",
        "import pandas as pd\n",
        "import os\n",
        "\n",
        "import gensim\n",
        "\n",
        "import lightgbm as lgb\n",
        "\n",
        "from sklearn.metrics import r2_score\n",
        "from sklearn.metrics import mean_squared_error\n",
        "\n",
        "from time import time\n",
        "\n",
        "from sklearn import feature_selection"
      ]
    },
    {
      "cell_type": "code",
      "source": [
        "df = []\n",
        "  \n",
        "for f in os.listdir('dataset'):\n",
        "  file1 = open(f'dataset/{f}', 'r')\n",
        "  lines = file1.readlines()\n",
        "\n",
        "  # Strips the newline character\n",
        "  for line in lines:\n",
        "      line = line.strip()\n",
        "      if(line[:4] == \"MISC\"):\n",
        "        df.append([line[5:], 'MISC'])\n",
        "      elif(line[:4] == 'CONT'):\n",
        "        df.append([line[5:], 'CONT'])\n",
        "      elif(line[:4] == 'AIMX'):\n",
        "        df.append([line[5:], 'AIMX'])\n",
        "      elif(line[:4] == 'OWNX'):\n",
        "        df.append([line[5:], 'OWNX'])\n",
        "      elif(line[:4] == 'BASE'):\n",
        "        df.append([line[5:], 'BASE'])\n",
        "    # count += 1\n",
        "    # print(\"Line{}: {}\".format(count, line.strip()))"
      ],
      "metadata": {
        "id": "v5uhemUiAOcC"
      },
      "execution_count": 2,
      "outputs": []
    },
    {
      "cell_type": "code",
      "source": [
        "df = pd.DataFrame(df, columns = ['text', 'label'])"
      ],
      "metadata": {
        "id": "0Q5Fj9m7aWCA"
      },
      "execution_count": 3,
      "outputs": []
    },
    {
      "cell_type": "code",
      "source": [
        "from tqdm import tqdm"
      ],
      "metadata": {
        "id": "tMGv3yVWdfmY"
      },
      "execution_count": 4,
      "outputs": []
    },
    {
      "cell_type": "code",
      "source": [
        "labels = {\n",
        "    'MISC': 0,\n",
        "    'CONT': 1,\n",
        "    'AIMX': 2, \n",
        "    'OWNX': 3,\n",
        "    'BASE': 4\n",
        "}"
      ],
      "metadata": {
        "id": "ZDBbJPv3djK4"
      },
      "execution_count": 5,
      "outputs": []
    },
    {
      "cell_type": "code",
      "source": [
        "from sklearn import feature_extraction\n",
        "import re, nltk\n",
        "\n",
        "nltk.download('stopwords')\n",
        "nltk.download('wordnet')\n",
        "nltk.download('omw-1.4')"
      ],
      "metadata": {
        "colab": {
          "base_uri": "https://localhost:8080/"
        },
        "id": "ghkOXrbIEGll",
        "outputId": "b46a6191-5852-48e3-a3dd-380c4a99072b"
      },
      "execution_count": 28,
      "outputs": [
        {
          "output_type": "stream",
          "name": "stderr",
          "text": [
            "[nltk_data] Downloading package stopwords to /root/nltk_data...\n",
            "[nltk_data]   Package stopwords is already up-to-date!\n",
            "[nltk_data] Downloading package wordnet to /root/nltk_data...\n",
            "[nltk_data]   Package wordnet is already up-to-date!\n",
            "[nltk_data] Downloading package omw-1.4 to /root/nltk_data...\n"
          ]
        },
        {
          "output_type": "execute_result",
          "data": {
            "text/plain": [
              "True"
            ]
          },
          "metadata": {},
          "execution_count": 28
        }
      ]
    },
    {
      "cell_type": "code",
      "source": [
        "'''\n",
        "Preprocess a string.\n",
        ":parameter\n",
        "    :param text: string - name of column containing text\n",
        "    :param lst_stopwords: list - list of stopwords to remove\n",
        "    :param flg_stemm: bool - whether stemming is to be applied\n",
        "    :param flg_lemm: bool - whether lemmitisation is to be applied\n",
        ":return\n",
        "    cleaned text\n",
        "\n",
        "Obtained from https://towardsdatascience.com/text-classification-with-nlp-tf-idf-vs-word2vec-vs-bert-41ff868d1794\n",
        "'''\n",
        "def utils_preprocess_text(text, flg_stemm=False, flg_lemm=True, lst_stopwords=None):\n",
        "    ## clean (convert to lowercase and remove punctuations and characters and then strip)\n",
        "    text = re.sub(r'[^\\w\\s]', '', str(text).lower().strip())\n",
        "            \n",
        "    ## Tokenize (convert from string to list)\n",
        "    lst_text = text.split()\n",
        "    ## remove Stopwords\n",
        "    if lst_stopwords is not None:\n",
        "        lst_text = [word for word in lst_text if word not in \n",
        "                    lst_stopwords]\n",
        "                \n",
        "    ## Stemming (remove -ing, -ly, ...)\n",
        "    if flg_stemm == True:\n",
        "        ps = nltk.stem.porter.PorterStemmer()\n",
        "        lst_text = [ps.stem(word) for word in lst_text]\n",
        "                \n",
        "    ## Lemmatisation (convert the word into root word)\n",
        "    if flg_lemm == True:\n",
        "        lem = nltk.stem.wordnet.WordNetLemmatizer()\n",
        "        lst_text = [lem.lemmatize(word) for word in lst_text]\n",
        "            \n",
        "    ## back to string from list\n",
        "    text = \" \".join(lst_text)\n",
        "    return text"
      ],
      "metadata": {
        "id": "3JWeg9j_EPah"
      },
      "execution_count": 25,
      "outputs": []
    },
    {
      "cell_type": "code",
      "source": [
        "stopwords = nltk.corpus.stopwords.words(\"english\")"
      ],
      "metadata": {
        "id": "fKzYtSK9EdkL"
      },
      "execution_count": 26,
      "outputs": []
    },
    {
      "cell_type": "code",
      "source": [
        "df[\"text_clean\"] = df[\"text\"].apply(lambda x: \n",
        "          utils_preprocess_text(x, flg_stemm=False, flg_lemm=True, \n",
        "          lst_stopwords=stopwords))\n",
        "df.head()"
      ],
      "metadata": {
        "colab": {
          "base_uri": "https://localhost:8080/",
          "height": 206
        },
        "id": "i7njo9BvEnWP",
        "outputId": "6f738bf9-00b7-4959-e175-12107bc73cc8"
      },
      "execution_count": 29,
      "outputs": [
        {
          "output_type": "execute_result",
          "data": {
            "text/plain": [
              "                                                text label  \\\n",
              "0  defensive forecasting is a method of transform...  MISC   \n",
              "1  there are two known varieties of defensive for...  MISC   \n",
              "2  this note shows that the randomized variety ca...  MISC   \n",
              "3  new as compared to version  NUMBER    NUMBER  ...  OWNX   \n",
              "4  in the case where   is finite  it is shown tha...  OWNX   \n",
              "\n",
              "                                          text_clean  \n",
              "0  defensive forecasting method transforming law ...  \n",
              "1  two known variety defensive forecasting contin...  \n",
              "2  note show randomized variety obtained continuo...  \n",
              "3  new compared version number number august numb...  \n",
              "4  case finite shown forecaster choose randomized...  "
            ],
            "text/html": [
              "\n",
              "  <div id=\"df-80bc1123-ef81-43be-a80f-94202f5c0ec0\">\n",
              "    <div class=\"colab-df-container\">\n",
              "      <div>\n",
              "<style scoped>\n",
              "    .dataframe tbody tr th:only-of-type {\n",
              "        vertical-align: middle;\n",
              "    }\n",
              "\n",
              "    .dataframe tbody tr th {\n",
              "        vertical-align: top;\n",
              "    }\n",
              "\n",
              "    .dataframe thead th {\n",
              "        text-align: right;\n",
              "    }\n",
              "</style>\n",
              "<table border=\"1\" class=\"dataframe\">\n",
              "  <thead>\n",
              "    <tr style=\"text-align: right;\">\n",
              "      <th></th>\n",
              "      <th>text</th>\n",
              "      <th>label</th>\n",
              "      <th>text_clean</th>\n",
              "    </tr>\n",
              "  </thead>\n",
              "  <tbody>\n",
              "    <tr>\n",
              "      <th>0</th>\n",
              "      <td>defensive forecasting is a method of transform...</td>\n",
              "      <td>MISC</td>\n",
              "      <td>defensive forecasting method transforming law ...</td>\n",
              "    </tr>\n",
              "    <tr>\n",
              "      <th>1</th>\n",
              "      <td>there are two known varieties of defensive for...</td>\n",
              "      <td>MISC</td>\n",
              "      <td>two known variety defensive forecasting contin...</td>\n",
              "    </tr>\n",
              "    <tr>\n",
              "      <th>2</th>\n",
              "      <td>this note shows that the randomized variety ca...</td>\n",
              "      <td>MISC</td>\n",
              "      <td>note show randomized variety obtained continuo...</td>\n",
              "    </tr>\n",
              "    <tr>\n",
              "      <th>3</th>\n",
              "      <td>new as compared to version  NUMBER    NUMBER  ...</td>\n",
              "      <td>OWNX</td>\n",
              "      <td>new compared version number number august numb...</td>\n",
              "    </tr>\n",
              "    <tr>\n",
              "      <th>4</th>\n",
              "      <td>in the case where   is finite  it is shown tha...</td>\n",
              "      <td>OWNX</td>\n",
              "      <td>case finite shown forecaster choose randomized...</td>\n",
              "    </tr>\n",
              "  </tbody>\n",
              "</table>\n",
              "</div>\n",
              "      <button class=\"colab-df-convert\" onclick=\"convertToInteractive('df-80bc1123-ef81-43be-a80f-94202f5c0ec0')\"\n",
              "              title=\"Convert this dataframe to an interactive table.\"\n",
              "              style=\"display:none;\">\n",
              "        \n",
              "  <svg xmlns=\"http://www.w3.org/2000/svg\" height=\"24px\"viewBox=\"0 0 24 24\"\n",
              "       width=\"24px\">\n",
              "    <path d=\"M0 0h24v24H0V0z\" fill=\"none\"/>\n",
              "    <path d=\"M18.56 5.44l.94 2.06.94-2.06 2.06-.94-2.06-.94-.94-2.06-.94 2.06-2.06.94zm-11 1L8.5 8.5l.94-2.06 2.06-.94-2.06-.94L8.5 2.5l-.94 2.06-2.06.94zm10 10l.94 2.06.94-2.06 2.06-.94-2.06-.94-.94-2.06-.94 2.06-2.06.94z\"/><path d=\"M17.41 7.96l-1.37-1.37c-.4-.4-.92-.59-1.43-.59-.52 0-1.04.2-1.43.59L10.3 9.45l-7.72 7.72c-.78.78-.78 2.05 0 2.83L4 21.41c.39.39.9.59 1.41.59.51 0 1.02-.2 1.41-.59l7.78-7.78 2.81-2.81c.8-.78.8-2.07 0-2.86zM5.41 20L4 18.59l7.72-7.72 1.47 1.35L5.41 20z\"/>\n",
              "  </svg>\n",
              "      </button>\n",
              "      \n",
              "  <style>\n",
              "    .colab-df-container {\n",
              "      display:flex;\n",
              "      flex-wrap:wrap;\n",
              "      gap: 12px;\n",
              "    }\n",
              "\n",
              "    .colab-df-convert {\n",
              "      background-color: #E8F0FE;\n",
              "      border: none;\n",
              "      border-radius: 50%;\n",
              "      cursor: pointer;\n",
              "      display: none;\n",
              "      fill: #1967D2;\n",
              "      height: 32px;\n",
              "      padding: 0 0 0 0;\n",
              "      width: 32px;\n",
              "    }\n",
              "\n",
              "    .colab-df-convert:hover {\n",
              "      background-color: #E2EBFA;\n",
              "      box-shadow: 0px 1px 2px rgba(60, 64, 67, 0.3), 0px 1px 3px 1px rgba(60, 64, 67, 0.15);\n",
              "      fill: #174EA6;\n",
              "    }\n",
              "\n",
              "    [theme=dark] .colab-df-convert {\n",
              "      background-color: #3B4455;\n",
              "      fill: #D2E3FC;\n",
              "    }\n",
              "\n",
              "    [theme=dark] .colab-df-convert:hover {\n",
              "      background-color: #434B5C;\n",
              "      box-shadow: 0px 1px 3px 1px rgba(0, 0, 0, 0.15);\n",
              "      filter: drop-shadow(0px 1px 2px rgba(0, 0, 0, 0.3));\n",
              "      fill: #FFFFFF;\n",
              "    }\n",
              "  </style>\n",
              "\n",
              "      <script>\n",
              "        const buttonEl =\n",
              "          document.querySelector('#df-80bc1123-ef81-43be-a80f-94202f5c0ec0 button.colab-df-convert');\n",
              "        buttonEl.style.display =\n",
              "          google.colab.kernel.accessAllowed ? 'block' : 'none';\n",
              "\n",
              "        async function convertToInteractive(key) {\n",
              "          const element = document.querySelector('#df-80bc1123-ef81-43be-a80f-94202f5c0ec0');\n",
              "          const dataTable =\n",
              "            await google.colab.kernel.invokeFunction('convertToInteractive',\n",
              "                                                     [key], {});\n",
              "          if (!dataTable) return;\n",
              "\n",
              "          const docLinkHtml = 'Like what you see? Visit the ' +\n",
              "            '<a target=\"_blank\" href=https://colab.research.google.com/notebooks/data_table.ipynb>data table notebook</a>'\n",
              "            + ' to learn more about interactive tables.';\n",
              "          element.innerHTML = '';\n",
              "          dataTable['output_type'] = 'display_data';\n",
              "          await google.colab.output.renderOutput(dataTable, element);\n",
              "          const docLink = document.createElement('div');\n",
              "          docLink.innerHTML = docLinkHtml;\n",
              "          element.appendChild(docLink);\n",
              "        }\n",
              "      </script>\n",
              "    </div>\n",
              "  </div>\n",
              "  "
            ]
          },
          "metadata": {},
          "execution_count": 29
        }
      ]
    },
    {
      "cell_type": "code",
      "source": [
        "vectorizer = feature_extraction.text.TfidfVectorizer(max_features=10000, ngram_range=(1,2))"
      ],
      "metadata": {
        "id": "Uf9BXiOBFFQg"
      },
      "execution_count": 30,
      "outputs": []
    },
    {
      "cell_type": "code",
      "source": [
        "np.random.seed(40)\n",
        "df_train, df_val, df_test = np.split(df.sample(frac=1, random_state=42), \n",
        "                                     [int(.8*len(df)), int(.9*len(df))])\n",
        "\n",
        "print(len(df_train),len(df_val), len(df_test))"
      ],
      "metadata": {
        "colab": {
          "base_uri": "https://localhost:8080/"
        },
        "id": "RJjkrG16drWt",
        "outputId": "2d755987-3ab3-41af-cb52-16fbffd81453"
      },
      "execution_count": 48,
      "outputs": [
        {
          "output_type": "stream",
          "name": "stdout",
          "text": [
            "2493 312 312\n"
          ]
        }
      ]
    },
    {
      "cell_type": "code",
      "source": [
        "corpus = df_train[\"text_clean\"]\n",
        "vectorizer.fit(corpus)\n",
        "X_train = vectorizer.transform(corpus)\n",
        "dic_vocabulary = vectorizer.vocabulary_"
      ],
      "metadata": {
        "id": "Et37dBmuEsZQ"
      },
      "execution_count": 32,
      "outputs": []
    },
    {
      "cell_type": "code",
      "source": [
        "y = df_train[\"label\"]\n",
        "X_names = vectorizer.get_feature_names()\n",
        "p_value_limit = 0.95\n",
        "dtf_features = pd.DataFrame()\n",
        "for cat in np.unique(y):\n",
        "    chi2, p = feature_selection.chi2(X_train, y==cat)\n",
        "    dtf_features = dtf_features.append(pd.DataFrame(\n",
        "                   {\"feature\":X_names, \"score\":1-p, \"y\":cat}))\n",
        "    dtf_features = dtf_features.sort_values([\"y\",\"score\"], \n",
        "                    ascending=[True,False])\n",
        "    dtf_features = dtf_features[dtf_features[\"score\"]>p_value_limit]\n",
        "X_names = dtf_features[\"feature\"].unique().tolist()"
      ],
      "metadata": {
        "colab": {
          "base_uri": "https://localhost:8080/"
        },
        "id": "Z1e83b-pFLq8",
        "outputId": "7643c03b-c599-4482-86f4-b07256349a81"
      },
      "execution_count": 42,
      "outputs": [
        {
          "output_type": "stream",
          "name": "stderr",
          "text": [
            "/usr/local/lib/python3.8/dist-packages/sklearn/utils/deprecation.py:87: FutureWarning: Function get_feature_names is deprecated; get_feature_names is deprecated in 1.0 and will be removed in 1.2. Please use get_feature_names_out instead.\n",
            "  warnings.warn(msg, category=FutureWarning)\n"
          ]
        }
      ]
    },
    {
      "cell_type": "code",
      "source": [
        "for cat in np.unique(y):\n",
        "   print(\"# {}:\".format(cat))\n",
        "   print(\"  . selected features:\",\n",
        "         len(dtf_features[dtf_features[\"y\"]==cat]))\n",
        "   print(\"  . top features:\", \",\".join(\n",
        "dtf_features[dtf_features[\"y\"]==cat][\"feature\"].values[:10]))\n",
        "   print(\" \")"
      ],
      "metadata": {
        "colab": {
          "base_uri": "https://localhost:8080/"
        },
        "id": "-UtqBwibFV59",
        "outputId": "577b5e37-00d7-46e3-f9a2-3fa0f1ac8f29"
      },
      "execution_count": 43,
      "outputs": [
        {
          "output_type": "stream",
          "name": "stdout",
          "text": [
            "# AIMX:\n",
            "  . selected features: 483\n",
            "  . top features: paper,continuous variable,describe,present new,current study,introduce,approach based,based machine,introduce radically,new approach\n",
            " \n",
            "# BASE:\n",
            "  . selected features: 316\n",
            "  . top features: extend,retracted,retracted second,reuse,reuse extend,aspect theorem,calibration result,citation noticed,important aspect,little randomization\n",
            " \n",
            "# CONT:\n",
            "  . selected features: 351\n",
            "  . top features: substantial,study induction,clinical use,variability,library,currently,laboratory,early study,insufficient,lasted\n",
            " \n",
            "# MISC:\n",
            "  . selected features: 40\n",
            "  . top features: citation,section,paper,show,channel,symbol mixing,mixing,proof,dendritic,result\n",
            " \n",
            "# OWNX:\n",
            "  . selected features: 57\n",
            "  . top features: section,citation,finally,proof,exon,classify,result,loss rank,fitted,internal face\n",
            " \n"
          ]
        }
      ]
    },
    {
      "cell_type": "code",
      "source": [
        "vectorizer = feature_extraction.text.TfidfVectorizer(vocabulary=X_names)\n",
        "vectorizer.fit(corpus)\n",
        "X_train = vectorizer.transform(corpus)\n",
        "dic_vocabulary = vectorizer.vocabulary_"
      ],
      "metadata": {
        "id": "ea4Rvqx-Fzr0"
      },
      "execution_count": 44,
      "outputs": []
    },
    {
      "cell_type": "code",
      "source": [
        "X_train, y_train = X_train, df_train.label\n",
        "\n",
        "X_test, y_test = df_test.text, df_test.label\n",
        "X_test = vectorizer.transform(X_test)"
      ],
      "metadata": {
        "id": "aRjMAs2HGKoj"
      },
      "execution_count": 51,
      "outputs": []
    },
    {
      "cell_type": "code",
      "source": [
        "import lightgbm as lgb\n",
        "clf = lgb.LGBMClassifier()\n",
        "clf.fit(X_train, y_train)"
      ],
      "metadata": {
        "colab": {
          "base_uri": "https://localhost:8080/"
        },
        "id": "h1vlQVSBF4-c",
        "outputId": "cbc43e9e-6bc4-46e8-b07f-9cdefa8ea2e8"
      },
      "execution_count": 52,
      "outputs": [
        {
          "output_type": "execute_result",
          "data": {
            "text/plain": [
              "LGBMClassifier()"
            ]
          },
          "metadata": {},
          "execution_count": 52
        }
      ]
    },
    {
      "cell_type": "code",
      "source": [
        "y_pred=clf.predict(X_test)"
      ],
      "metadata": {
        "id": "KAJ3K0hAF_t3"
      },
      "execution_count": 53,
      "outputs": []
    },
    {
      "cell_type": "code",
      "source": [
        "# view accuracy\n",
        "from sklearn.metrics import accuracy_score\n",
        "accuracy=accuracy_score(y_pred, y_test)\n",
        "print('LightGBM Model accuracy score: {0:0.4f}'.format(accuracy_score(y_test, y_pred)))"
      ],
      "metadata": {
        "colab": {
          "base_uri": "https://localhost:8080/"
        },
        "id": "1lCZdBu0GFKP",
        "outputId": "2bb258ef-9690-48c8-c970-6d37a44f750e"
      },
      "execution_count": 54,
      "outputs": [
        {
          "output_type": "stream",
          "name": "stdout",
          "text": [
            "LightGBM Model accuracy score: 0.6987\n"
          ]
        }
      ]
    },
    {
      "cell_type": "code",
      "source": [
        "from sklearn.metrics import f1_score, classification_report"
      ],
      "metadata": {
        "id": "N1SxpuS9GwSc"
      },
      "execution_count": 55,
      "outputs": []
    },
    {
      "cell_type": "code",
      "source": [
        "print(classification_report(y_test, y_pred))"
      ],
      "metadata": {
        "colab": {
          "base_uri": "https://localhost:8080/"
        },
        "id": "Khy9RrIRGoes",
        "outputId": "6abbb625-ecd9-4178-b95a-9868c54bd3b4"
      },
      "execution_count": 56,
      "outputs": [
        {
          "output_type": "stream",
          "name": "stdout",
          "text": [
            "              precision    recall  f1-score   support\n",
            "\n",
            "        AIMX       0.83      0.62      0.71        24\n",
            "        BASE       1.00      0.20      0.33         5\n",
            "        CONT       0.14      0.07      0.10        14\n",
            "        MISC       0.71      0.95      0.81       186\n",
            "        OWNX       0.68      0.30      0.42        83\n",
            "\n",
            "    accuracy                           0.70       312\n",
            "   macro avg       0.67      0.43      0.47       312\n",
            "weighted avg       0.69      0.70      0.66       312\n",
            "\n"
          ]
        }
      ]
    },
    {
      "cell_type": "code",
      "source": [],
      "metadata": {
        "id": "cEJe8nQHGx_C"
      },
      "execution_count": null,
      "outputs": []
    }
  ]
}